{
 "cells": [
  {
   "cell_type": "code",
   "execution_count": 1,
   "metadata": {},
   "outputs": [],
   "source": [
    "from PIL import Image\n",
    "import numpy as np\n",
    "import pandas as pd\n",
    "import math"
   ]
  },
  {
   "cell_type": "code",
   "execution_count": 2,
   "metadata": {},
   "outputs": [],
   "source": [
    "def normalize_image(image):\n",
    "    for i, pixel in enumerate(image):\n",
    "        if pixel != 0:\n",
    "            image[i] = 1\n",
    "    return image"
   ]
  },
  {
   "cell_type": "code",
   "execution_count": 3,
   "metadata": {},
   "outputs": [],
   "source": [
    "def load_image(path):\n",
    "    image = np.array(Image.open(path).getdata())\n",
    "    return normalize_image(image)"
   ]
  },
  {
   "cell_type": "code",
   "execution_count": 4,
   "metadata": {},
   "outputs": [],
   "source": [
    "def __symmetrical_samples(img1, img2, y):\n",
    "    samples = []\n",
    "    X = img1 + img2\n",
    "    X2 = img2 + img1\n",
    "    sample = [X, y]\n",
    "    sample2 = [X2, y]\n",
    "    samples.append(sample)\n",
    "    samples.append(sample2)\n",
    "    \n",
    "    return samples"
   ]
  },
  {
   "cell_type": "code",
   "execution_count": 5,
   "metadata": {},
   "outputs": [],
   "source": [
    "def __column(matrix, i):\n",
    "    return [row[i] for row in matrix]"
   ]
  },
  {
   "cell_type": "code",
   "execution_count": 6,
   "metadata": {},
   "outputs": [],
   "source": [
    "def resize_2D_image(image, size):\n",
    "\n",
    "    image_flattened = __image_2D_to_1D(image)\n",
    "    image_zoomed = Image.new(mode=\"L\", size=(int(len(image[0])), int(len(image))))\n",
    "    image_zoomed.putdata(image_flattened)\n",
    "    image_scaled = image_zoomed.resize((size, size))\n",
    "    \n",
    "    return __image_1D_to_2D(list(image_scaled.getdata()))"
   ]
  },
  {
   "cell_type": "code",
   "execution_count": 7,
   "metadata": {},
   "outputs": [],
   "source": [
    "def __image_1D_to_2D(image):\n",
    "\n",
    "    size = int(math.sqrt(len(image)))\n",
    "    new_image = []\n",
    "    r = []\n",
    "    for i, pixel in enumerate(image):\n",
    "        r.append(pixel)\n",
    "        if (i + 1) % size == 0:\n",
    "            new_image.append(r)\n",
    "            r = []\n",
    "    return new_image"
   ]
  },
  {
   "cell_type": "code",
   "execution_count": 8,
   "metadata": {},
   "outputs": [],
   "source": [
    "def __image_2D_to_1D(image):\n",
    "\n",
    "    new_image = []\n",
    "    for r in image:\n",
    "        for c in r:\n",
    "            new_image.append(c)\n",
    "    return new_image"
   ]
  },
  {
   "cell_type": "code",
   "execution_count": 9,
   "metadata": {},
   "outputs": [],
   "source": [
    "def is_1D_image(image):\n",
    "\n",
    "    try:\n",
    "        if not isinstance(image, list):\n",
    "            return False\n",
    "        if isinstance(image[0], list):\n",
    "            return False\n",
    "        return True\n",
    "    except:\n",
    "        pass\n",
    "    return False"
   ]
  },
  {
   "cell_type": "code",
   "execution_count": 10,
   "metadata": {},
   "outputs": [],
   "source": [
    "def is_2D_image(image):\n",
    "\n",
    "    try:\n",
    "        if not isinstance(image, list):\n",
    "            return False\n",
    "        if isinstance(image[0], list):\n",
    "            return True\n",
    "    except:\n",
    "        pass\n",
    "    return False"
   ]
  },
  {
   "cell_type": "code",
   "execution_count": 11,
   "metadata": {},
   "outputs": [],
   "source": [
    "def ensure_1D_image(image):\n",
    "\n",
    "    if not is_1D_image(image):\n",
    "        return __image_2D_to_1D(image)\n",
    "    return image"
   ]
  },
  {
   "cell_type": "code",
   "execution_count": 12,
   "metadata": {},
   "outputs": [],
   "source": [
    "def ensure_2D_image(image):\n",
    "\n",
    "    if not is_2D_image(image):\n",
    "        return __image_1D_to_2D(image)\n",
    "    return image"
   ]
  },
  {
   "cell_type": "code",
   "execution_count": 13,
   "metadata": {},
   "outputs": [],
   "source": [
    "def image_differences_2D(img1, img2):\n",
    "\n",
    "    img1 = ensure_2D_image(img1)\n",
    "    img2 = ensure_2D_image(img2)\n",
    "\n",
    "    img_diff = []\n",
    "    for i, r in enumerate(img1):\n",
    "        new_row = []\n",
    "        for j, c in enumerate(r):\n",
    "            value = abs(img1[i][j] - img2[i][j])\n",
    "            new_row.append(value)\n",
    "        img_diff.append(new_row)\n",
    "        \n",
    "    return img_diff\n"
   ]
  },
  {
   "cell_type": "code",
   "execution_count": 14,
   "metadata": {},
   "outputs": [],
   "source": [
    "def get_object_frame(image):\n",
    "\n",
    "    x_min = len(image) + 1\n",
    "    x_max = -1\n",
    "    y_min = len(image) + 1\n",
    "    y_max = -1\n",
    "\n",
    "    for i, r in enumerate(image):\n",
    "        for j, c in enumerate(r):\n",
    "            if c == 0:\n",
    "                if i < y_min: y_min = i\n",
    "                if i > y_max: y_max = i\n",
    "                if j < x_min: x_min = j\n",
    "                if j > x_max: x_max = j\n",
    "\n",
    "    return x_min, x_max, y_min, y_max"
   ]
  },
  {
   "cell_type": "code",
   "execution_count": 15,
   "metadata": {},
   "outputs": [],
   "source": [
    "def crop_image(image, x_min, x_max, y_min, y_max):\n",
    "\n",
    "    new_image = []\n",
    "    for i, r in enumerate(image):\n",
    "        new_row = []\n",
    "        for j, c in enumerate(r):\n",
    "            if i >= y_min and i <= y_max and j >= x_min and j <= x_max:\n",
    "                new_row.append(c)\n",
    "        if len(new_row) > 0:\n",
    "            new_image.append(new_row)\n",
    "    return new_image"
   ]
  },
  {
   "cell_type": "code",
   "execution_count": 16,
   "metadata": {},
   "outputs": [],
   "source": [
    "def extract_visual_object_2D(image):\n",
    "\n",
    "    x_min, x_max, y_min, y_max = get_object_frame(image)\n",
    "    image_cropped = crop_image(image, x_min, x_max, y_min, y_max)\n",
    "    return resize_2D_image(image_cropped, size=len(image))"
   ]
  },
  {
   "cell_type": "code",
   "execution_count": 17,
   "metadata": {},
   "outputs": [],
   "source": [
    "def __object_cropp_scale(image1):       \n",
    "    image1_2D_raw = ensure_2D_image(image1)\n",
    "    image1_2D = extract_visual_object_2D(image1_2D_raw)\n",
    "    \n",
    "    return ensure_1D_image(image1_2D)"
   ]
  },
  {
   "cell_type": "code",
   "execution_count": 18,
   "metadata": {},
   "outputs": [],
   "source": [
    "def __format_image(image):\n",
    "    img_cropped = __object_cropp_scale(image)    \n",
    "    \n",
    "    return ensure_1D_image(img_cropped)"
   ]
  },
  {
   "cell_type": "code",
   "execution_count": 19,
   "metadata": {},
   "outputs": [],
   "source": [
    "def format_fit_inputs(X, Y):\n",
    "\n",
    "    new_samples = []\n",
    "    for i, x in enumerate(X):\n",
    "        img1 = __format_image(x[0])\n",
    "        img2 = __format_image(x[1])\n",
    "        samples = __symmetrical_samples(img1, img2, Y[i])\n",
    "        for sample in samples:\n",
    "            sample[0] += (ensure_1D_image(image_differences_2D(img1, img2)))\n",
    "            new_samples.append(sample)\n",
    "    X = __column(new_samples, 0)\n",
    "    Y = __column(new_samples, 1)\n",
    "    return X, Y"
   ]
  },
  {
   "cell_type": "code",
   "execution_count": 20,
   "metadata": {},
   "outputs": [],
   "source": [
    "df = pd.read_csv(\"omniglot_dataset.csv\")\n",
    "X = []\n",
    "y = []"
   ]
  },
  {
   "cell_type": "code",
   "execution_count": 21,
   "metadata": {},
   "outputs": [],
   "source": [
    "def image_comparison():\n",
    "    X_list = []\n",
    "    y_list = []\n",
    "    \n",
    "    img1 = load_image(df.iloc[0][\"path\"])\n",
    "    X_list.append([img1, load_image(df.iloc[1][\"path\"])])\n",
    "    y_list.append(1)\n",
    "    \n",
    "    for i in range(0, 19):            \n",
    "        img2 = np.random.choice(range(20, len(df)), replace=False)                \n",
    "\n",
    "        X_list.append([img1, load_image(df.iloc[img2][\"path\"])])\n",
    "        y_list.append(0)\n",
    "    \n",
    "    return X_list, y_list"
   ]
  },
  {
   "cell_type": "code",
   "execution_count": 22,
   "metadata": {},
   "outputs": [],
   "source": [
    "X, y = image_comparison()"
   ]
  },
  {
   "cell_type": "code",
   "execution_count": 23,
   "metadata": {},
   "outputs": [],
   "source": [
    "X, y = format_fit_inputs(X, y)"
   ]
  },
  {
   "cell_type": "code",
   "execution_count": 28,
   "metadata": {},
   "outputs": [
    {
     "data": {
      "text/plain": [
       "40"
      ]
     },
     "execution_count": 28,
     "metadata": {},
     "output_type": "execute_result"
    }
   ],
   "source": [
    "#len(y)"
   ]
  },
  {
   "cell_type": "code",
   "execution_count": 29,
   "metadata": {},
   "outputs": [],
   "source": [
    "from sklearn.tree import DecisionTreeClassifier\n",
    "\n",
    "clf = DecisionTreeClassifier(max_depth=5)\n",
    "clf = clf.fit(np.array(X), np.array(y))"
   ]
  },
  {
   "cell_type": "code",
   "execution_count": null,
   "metadata": {},
   "outputs": [],
   "source": []
  }
 ],
 "metadata": {
  "kernelspec": {
   "display_name": "Python 3",
   "language": "python",
   "name": "python3"
  },
  "language_info": {
   "codemirror_mode": {
    "name": "ipython",
    "version": 3
   },
   "file_extension": ".py",
   "mimetype": "text/x-python",
   "name": "python",
   "nbconvert_exporter": "python",
   "pygments_lexer": "ipython3",
   "version": "3.5.2"
  }
 },
 "nbformat": 4,
 "nbformat_minor": 2
}
