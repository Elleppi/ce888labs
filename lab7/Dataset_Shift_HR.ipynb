{
 "cells": [
  {
   "cell_type": "code",
   "execution_count": 1,
   "metadata": {},
   "outputs": [],
   "source": [
    "import numpy as np\n",
    "import matplotlib.pyplot as plt\n",
    "from matplotlib.patches import Ellipse\n",
    "import seaborn as sns\n",
    "import pandas as pd\n",
    "import random"
   ]
  },
  {
   "cell_type": "markdown",
   "metadata": {},
   "source": [
    "# Univariate Data"
   ]
  },
  {
   "cell_type": "code",
   "execution_count": 4,
   "metadata": {},
   "outputs": [
    {
     "data": {
      "image/png": "[encoded data removed]",
      "text/plain": [
       "<matplotlib.figure.Figure at 0x88d2cd0>"
      ]
     },
     "metadata": {},
     "output_type": "display_data"
    }
   ],
   "source": [
    "mu1 = 0 # mean \n",
    "sigma1 =  1 # standard deviation\n",
    "s1 = np.random.normal(mu1, sigma1, 1000)\n",
    "\n",
    "mu2 = 2 # mean \n",
    "sigma2 =  1 # standard deviation\n",
    "s2 = np.random.normal(mu2, sigma2, 1000)\n",
    "\n",
    "# PLOT\n",
    "# Method 1: on the same Axis\n",
    "sns.distplot(s1 , color=\"skyblue\", label=\"Training\", hist=False, rug=True)\n",
    "sns.distplot(s2 , color=\"red\", label=\"Testing\",hist=False, rug=True)\n",
    "plt.legend();\n",
    "plt.show()"
   ]
  },
  {
   "cell_type": "markdown",
   "metadata": {},
   "source": [
    "## Univariate with two class in Training and Testing Distrbutions"
   ]
  },
  {
   "cell_type": "code",
   "execution_count": null,
   "metadata": {},
   "outputs": [],
   "source": [
    "## Training\n",
    "Tr_mu1 = 0 # mean \n",
    "Tr_sigma1 =  1 # standard deviation\n",
    "Tr_s1 = np.random.normal(Tr_mu1, Tr_sigma1, 100)\n",
    "\n",
    "Tr_mu2 = 2 # mean \n",
    "Tr_sigma2 =  1 # standard deviation\n",
    "Tr_s2 = np.random.normal(Tr_mu2, Tr_sigma2, 100)\n",
    "\n",
    "Tr_X=np.append(Tr_s1,Tr_s2)\n",
    "\n",
    "## Testing\n",
    "Ts_mu1 = 4 # mean \n",
    "Ts_sigma1 =  1 # standard deviation\n",
    "Ts_s1 = np.random.normal(Ts_mu1, Ts_sigma1, 100)\n",
    "\n",
    "Ts_mu2 = 6 # mean \n",
    "Ts_sigma2 =  1 # standard deviation\n",
    "Ts_s2 = np.random.normal(Ts_mu2, Ts_sigma2, 100)\n",
    "\n",
    "Ts_X=np.append(Ts_s1,Ts_s2)\n",
    "\n",
    "# PLOT\n",
    "# Training\n",
    "sns.distplot(Tr_X , color=\"green\", label=\"Tr_X\", hist=False)\n",
    "sns.distplot(Tr_s1 , color=\"blue\", label=\"Tr_Class1\", hist=False)\n",
    "sns.distplot(Tr_s2 , color=\"magenta\", label=\"Tr_Class2\",hist=False)\n",
    "\n",
    "# Training\n",
    "sns.distplot(Ts_X , color=\"red\", label=\"Ts_X\", hist=False)\n",
    "sns.distplot(Ts_s1 , color=\"yellow\", label=\"Ts_Class1\", hist=False)\n",
    "sns.distplot(Ts_s2 , color=\"purple\", label=\"Ts_Class2\",hist=False)\n",
    "\n",
    "plt.ylim(0,0.50)\n",
    "plt.xlim(-10, 10)\n",
    "plt.legend();\n",
    "plt.show()"
   ]
  },
  {
   "cell_type": "markdown",
   "metadata": {},
   "source": [
    "# Multivariate data with two classss in Training and Testing Distrbutions"
   ]
  },
  {
   "cell_type": "code",
   "execution_count": null,
   "metadata": {},
   "outputs": [],
   "source": [
    "def get_cov_ellipse(cov, centre, nstd, **kwargs):\n",
    "    \"\"\"\n",
    "    Return a matplotlib Ellipse patch representing the covariance matrix\n",
    "    cov centred at centre and scaled by the factor nstd.\n",
    "\n",
    "    \"\"\"\n",
    "    # Find and sort eigenvalues and eigenvectors into descending order\n",
    "    eigvals, eigvecs = np.linalg.eigh(cov)\n",
    "    order = eigvals.argsort()[::-1]\n",
    "    eigvals, eigvecs = eigvals[order], eigvecs[:, order]\n",
    "\n",
    "    # The anti-clockwise angle to rotate our ellipse by \n",
    "    vx, vy = eigvecs[:,0][0], eigvecs[:,0][1]\n",
    "    theta = np.arctan2(vy, vx)\n",
    "\n",
    "    # Width and height of ellipse to draw\n",
    "    width, height = 2 * nstd * np.sqrt(eigvals)\n",
    "    return Ellipse(xy=centre, width=width, height=height,\n",
    "                   angle=np.degrees(theta), **kwargs)"
   ]
  },
  {
   "cell_type": "code",
   "execution_count": null,
   "metadata": {},
   "outputs": [],
   "source": [
    "## Training\n",
    "Tr_Mu1 = [2,2]\n",
    "Tr_Cov1 = np.eye(2)\n",
    "Tr_d1 = np.random.multivariate_normal(Tr_Mu1, Tr_Cov1, 100)\n",
    "\n",
    "Tr_Mu2 = [8,5]\n",
    "Tr_Cov2 = np.eye(2)\n",
    "Tr_d2 = np.random.multivariate_normal(Tr_Mu2, Tr_Cov2, 100)\n",
    "\n",
    "Tr_X_array=np.concatenate((Tr_d1,Tr_d2), axis=0)\n",
    "Tr_X=pd.DataFrame(Tr_X_array)\n",
    "\n",
    "\n",
    "## Testing\n",
    "Ts_Mu1 = [3,4]\n",
    "Ts_Cov1 = np.eye(2)\n",
    "Ts_d1 = np.random.multivariate_normal(Ts_Mu1, Ts_Cov1, 100)\n",
    "\n",
    "Ts_Mu2 = [9,6]\n",
    "Ts_Cov2 = np.eye(2)\n",
    "Ts_d2 = np.random.multivariate_normal(Ts_Mu2, Ts_Cov2, 100)\n",
    "\n",
    "Ts_X_array=np.concatenate((Ts_d1,Ts_d2), axis=0)\n",
    "Ts_X=pd.DataFrame(Ts_X_array)\n",
    "\n",
    "# use the function regplot to make a scatterplot\n",
    "ax1=sns.regplot(x=Tr_X.iloc[0:100,0], y=Tr_X.iloc[0:100,1], marker=\"+\", fit_reg=False, color=\"g\", label=\"Tr Class 1\")\n",
    "e1 = get_cov_ellipse(Tr_Cov1, Tr_Mu1, 3,color=\"g\", alpha=0.1)\n",
    "ax1.add_artist(e1)\n",
    "\n",
    "ax2=sns.regplot(x=Tr_X.iloc[101:200,0], y=Tr_X.iloc[101:200,1],  marker=\"+\", fit_reg=False, color=\"b\", label=\"Tr Class 2\")\n",
    "e2 = get_cov_ellipse(Tr_Cov2, Tr_Mu2, 3, color=\"b\", alpha=0.1)\n",
    "ax2.add_artist(e2)\n",
    "\n",
    "# use the function regplot to make a scatterplot\n",
    "ax3=sns.regplot(x=Ts_X.iloc[0:100,0], y=Ts_X.iloc[0:100,1],fit_reg=False, color=\"y\", marker=\"o\", label=\"Ts Class 1\")\n",
    "e3 = get_cov_ellipse(Ts_Cov1, Ts_Mu1, 3, color=\"y\", alpha=0.1)\n",
    "ax3.add_artist(e3)\n",
    "\n",
    "ax4=sns.regplot(x=Ts_X.iloc[101:200,0], y=Ts_X.iloc[101:200,1],fit_reg=False, color=\"m\", marker=\"o\", label=\"Ts Class 2\")\n",
    "e4 = get_cov_ellipse(Ts_Cov2, Ts_Mu2, 3,color=\"m\", alpha=0.1)\n",
    "ax4.add_artist(e4)\n",
    "\n",
    "plt.ylim(-4,10)\n",
    "plt.xlim(-4, 12)\n",
    "plt.legend()\n",
    "plt.show()"
   ]
  },
  {
   "cell_type": "markdown",
   "metadata": {},
   "source": [
    "# One class covariate shift\n",
    "One class covariate shift (D1): The dataset is consisting of 1000 data-points, the non-stationary shift occurs in the middle of the data stream at 501 data-point, by shifting the mean of second class from $\\mathcal{N}(x: 2.5, 2)$ to $\\mathcal{N}(x: 6.5, 2)$, where $\\mathcal{N}(x: \\mu, \\sigma)$ denotes the normal distribution with mean and standard deviation respectively"
   ]
  },
  {
   "cell_type": "code",
   "execution_count": null,
   "metadata": {},
   "outputs": [],
   "source": [
    "## Training\n",
    "Tr_Mu1 = 2.5\n",
    "Tr_std1= 2\n",
    "Tr_d1 = np.random.normal(Tr_Mu1, Tr_std1, 500)\n",
    "\n",
    "Tr_Mu2 = 6.5\n",
    "Tr_std2= 2\n",
    "Tr_d2 = np.random.normal(Tr_Mu2, Tr_std2, 500)\n",
    "\n",
    "Tr_X_array=np.concatenate((Tr_d1,Tr_d2), axis=0)\n",
    "Tr_X=pd.DataFrame(Tr_X_array)\n",
    "no_of_pnts=np.arange(1, 1001, dtype=np.float)\n",
    "\n",
    "\n",
    "# PLOT\n",
    "plt.scatter(no_of_pnts,Tr_X, color='g')\n",
    "plt.legend()\n",
    "plt.show()"
   ]
  },
  {
   "cell_type": "markdown",
   "metadata": {},
   "source": [
    "# Create a toy dataset set with two classes (e.g. $1$ and $2$). Choose the number of observations by yoursleves (e.g. $n=200$) and fix the number of columns to 1. The mean of class 1 and class 2 changed/shifted at the middle of the data stream (i.e. after generating $100^{th}$) observation"
   ]
  },
  {
   "cell_type": "code",
   "execution_count": null,
   "metadata": {},
   "outputs": [],
   "source": [
    "#================================================\n",
    "## Data Before Shift\n",
    "#================================================\n",
    "\n",
    "Tr_Mu1 = 0 # mean of class 1\n",
    "Tr_std1= 1 # standard deviation of class 1\n",
    "Tr_d1 = np.random.normal(Tr_Mu1, Tr_std1, 100) # Generate data (covariates or input) for class 1\n",
    "Tr_lbl_c1=np.ones(100) # Generate Labels for class 1\n",
    "\n",
    "Tr_Mu2 = 2 # mean of class 2\n",
    "Tr_std2= 1 # standard deviation of class 2\n",
    "Tr_d2 = np.random.normal(Tr_Mu2, Tr_std2, 100) # Generate data (covariates or input) for class 2\n",
    "Tr_lbl_c2=np.ones(100)+1 # Generate Labels for class 2\n",
    "\n",
    "Tr_X_array=np.concatenate((Tr_d1,Tr_d2), axis=0) # concatenate covariates of class 1 and class 2\n",
    "Tr_Y_array=np.concatenate((Tr_lbl_c1,Tr_lbl_c2), axis=0) # concatenate labels of class 1 and class 2\n",
    "\n",
    "Tr_indx=np.random.permutation(len(Tr_X_array)) # generate the indexes with permutation, so class 1 and class 2 data get mixed\n",
    "\n",
    "tr_Y=[];\n",
    "for x in range(0, 200):  # for loop to assign labels based on mixed indexes\n",
    "    if Tr_indx[x] <= 99:\n",
    "        t = 1\n",
    "        tr_Y.append(t)\n",
    "    else:\n",
    "        t = 2\n",
    "        tr_Y.append(t)      \n",
    "  \n",
    "Tr_X_rand=Tr_X_array[Tr_indx] # create an array that contains randomised data with mixture of class 1 and class 2 based on indexes\n",
    "df_rand=pd.DataFrame({\"x\": Tr_X_rand, \"y\": tr_Y}) # put them inside a data frame\n",
    "\n",
    "#================================================\n",
    "## Data After Shift\n",
    "#================================================\n",
    "\n",
    "Ts_Mu1 = 0 # mean of class 1\n",
    "Ts_std1= 1 # standard deviation of class 1\n",
    "Ts_d1 = np.random.normal(Ts_Mu1, Ts_std1, 100) # Generate data (covariates or input) for class 1\n",
    "Ts_lbl_c1=np.ones(100) # Generate Labels for class 1\n",
    "\n",
    "Ts_Mu2 = 6 # mean of class 2\n",
    "Ts_std2= 1 # standard deviation of class 2\n",
    "Ts_d2 = np.random.normal(Ts_Mu2, Ts_std2, 100) # Generate data (covariates or input) for class 2\n",
    "Ts_lbl_c2=np.ones(100)+1 # Generate Labels for class 2\n",
    "\n",
    "Ts_X_array=np.concatenate((Ts_d1,Ts_d2), axis=0) # concatenate covariates of class 1 and class 2\n",
    "Ts_Y_array=np.concatenate((Ts_lbl_c1,Ts_lbl_c2), axis=0) # concatenate labels of class 1 and class 2\n",
    "\n",
    "Ts_indx=np.random.permutation(len(Ts_X_array)) # generate the indexes with permutation, so class 1 and class 2 data get mixed\n",
    "\n",
    "ts_Y=[];\n",
    "for x in range(0, 200):  # for loop to assign labels based on mixed indexes\n",
    "    if Ts_indx[x] <= 99:\n",
    "        t = 1\n",
    "        ts_Y.append(t)\n",
    "    else:\n",
    "        t = 2\n",
    "        ts_Y.append(t)      \n",
    "  \n",
    "Ts_X_rand=Ts_X_array[Ts_indx] # create an array that contains randomised data with mixture of class 1 and class 2 based on indexes\n",
    "Ts_df_rand=pd.DataFrame({\"x\": Ts_X_rand, \"y\": ts_Y}) # put them inside a data frame\n",
    "\n",
    "\n",
    "## Merge Two Data frame before and after shift\n",
    "Data_all=[df_rand,Ts_df_rand]\n",
    "df_main=pd.concat(Data_all, ignore_index=True)\n",
    "\n",
    "df_main[\"indxx\"]=df_main.index # create an additional column for index, which can be used for plotting a figure\n",
    "df_Class1=df_main[df_main.y==1] # create a dataframe which has class 1 inputs and labels\n",
    "df_Class2=df_main[df_main.y==2] # create a dataframe which has class 2 inputs and labels\n",
    "\n",
    "# plot\n",
    "plt.scatter(df_Class1.indxx, df_Class1.x, label=\"Class 1\", color='b') # plot class 1 data\n",
    "plt.scatter(df_Class2.indxx, df_Class2.x, label=\"Class 2\", color='g') # plot class 2 data\n",
    "plt.legend()\n",
    "plt.show()"
   ]
  }
 ],
 "metadata": {
  "kernelspec": {
   "display_name": "Python 3",
   "language": "python",
   "name": "python3"
  },
  "language_info": {
   "codemirror_mode": {
    "name": "ipython",
    "version": 3
   },
   "file_extension": ".py",
   "mimetype": "text/x-python",
   "name": "python",
   "nbconvert_exporter": "python",
   "pygments_lexer": "ipython3",
   "version": "3.6.4"
  }
 },
 "nbformat": 4,
 "nbformat_minor": 2
}
